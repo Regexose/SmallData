{
 "cells": [
  {
   "cell_type": "code",
   "execution_count": 1,
   "metadata": {},
   "outputs": [
    {
     "name": "stdout",
     "output_type": "stream",
     "text": [
      "Loading /Users/staude/Projekte/BorisJoens/SmallData/webserver/model_data/TrainingDataPelle01.tsv\n",
      "Loading /Users/staude/Projekte/BorisJoens/SmallData/webserver/model_data/TrainingDataBoris01.tsv\n"
     ]
    },
    {
     "data": {
      "text/html": [
       "<div>\n",
       "<style scoped>\n",
       "    .dataframe tbody tr th:only-of-type {\n",
       "        vertical-align: middle;\n",
       "    }\n",
       "\n",
       "    .dataframe tbody tr th {\n",
       "        vertical-align: top;\n",
       "    }\n",
       "\n",
       "    .dataframe thead th {\n",
       "        text-align: right;\n",
       "    }\n",
       "</style>\n",
       "<table border=\"1\" class=\"dataframe\">\n",
       "  <thead>\n",
       "    <tr style=\"text-align: right;\">\n",
       "      <th></th>\n",
       "      <th>utterance</th>\n",
       "      <th>category</th>\n",
       "      <th>word_count</th>\n",
       "      <th>category_id</th>\n",
       "    </tr>\n",
       "  </thead>\n",
       "  <tbody>\n",
       "    <tr>\n",
       "      <th>0</th>\n",
       "      <td>Schöne ausführliche Zusammenfassung.</td>\n",
       "      <td>praise</td>\n",
       "      <td>3</td>\n",
       "      <td>0</td>\n",
       "    </tr>\n",
       "    <tr>\n",
       "      <th>1</th>\n",
       "      <td>Selten einen solchen Mist gelesen Herr Stöker !!!</td>\n",
       "      <td>dissence</td>\n",
       "      <td>8</td>\n",
       "      <td>1</td>\n",
       "    </tr>\n",
       "    <tr>\n",
       "      <th>2</th>\n",
       "      <td>Absolut Richtig!</td>\n",
       "      <td>praise</td>\n",
       "      <td>3</td>\n",
       "      <td>0</td>\n",
       "    </tr>\n",
       "    <tr>\n",
       "      <th>3</th>\n",
       "      <td>Ach kommen sie sie wissen schon das die meiste...</td>\n",
       "      <td>lecture</td>\n",
       "      <td>16</td>\n",
       "      <td>2</td>\n",
       "    </tr>\n",
       "    <tr>\n",
       "      <th>4</th>\n",
       "      <td>Sie treffen den Nagel auf den Kopf.</td>\n",
       "      <td>praise</td>\n",
       "      <td>7</td>\n",
       "      <td>0</td>\n",
       "    </tr>\n",
       "  </tbody>\n",
       "</table>\n",
       "</div>"
      ],
      "text/plain": [
       "                                           utterance  category  word_count  \\\n",
       "0               Schöne ausführliche Zusammenfassung.    praise           3   \n",
       "1  Selten einen solchen Mist gelesen Herr Stöker !!!  dissence           8   \n",
       "2                                  Absolut Richtig!     praise           3   \n",
       "3  Ach kommen sie sie wissen schon das die meiste...   lecture          16   \n",
       "4                Sie treffen den Nagel auf den Kopf.    praise           7   \n",
       "\n",
       "   category_id  \n",
       "0            0  \n",
       "1            1  \n",
       "2            0  \n",
       "3            2  \n",
       "4            0  "
      ]
     },
     "execution_count": 1,
     "metadata": {},
     "output_type": "execute_result"
    }
   ],
   "source": [
    "# taken from https://towardsdatascience.com/multi-class-text-classification-with-scikit-learn-12f1e60e0a9f\n",
    "\n",
    "# Load data and prepare data-frame\n",
    "# - strip unused columns \n",
    "# - add additional information\n",
    "# - remove too short utterances\n",
    "\n",
    "import pandas as pd\n",
    "import sys\n",
    "from os import path\n",
    "\n",
    "sys.path.append(path.abspath('..'))\n",
    "from webserver.classification import trainer\n",
    "min_word_count = 2\n",
    "\n",
    "\n",
    "data_path = '../webserver/model_data'\n",
    "col = ['utterance', 'category']\n",
    "categories_to_consider = ['praise', 'dissence', 'lecture', 'concession', 'insinuation']\n",
    "\n",
    "df = trainer.load_training_files(data_path, ['Boris', 'Pelle'], categories_to_consider) # ['Boris', 'Pelle']\n",
    "\n",
    "category_id_df = df[['category', 'category_id']].drop_duplicates().sort_values('category_id')\n",
    "category_to_id = dict(category_id_df.values)\n",
    "id_to_category = dict(category_id_df[['category_id', 'category']].values)\n",
    "\n",
    "df.head()"
   ]
  },
  {
   "cell_type": "code",
   "execution_count": 2,
   "metadata": {},
   "outputs": [
    {
     "data": {
      "image/png": "[encoded data removed]",
      "text/plain": [
       "<Figure size 576x432 with 1 Axes>"
      ]
     },
     "metadata": {
      "needs_background": "light"
     },
     "output_type": "display_data"
    }
   ],
   "source": [
    "# Analyze category distribution\n",
    "\n",
    "import matplotlib.pyplot as plt\n",
    "fig = plt.figure(figsize=(8,6))\n",
    "df.groupby('category').utterance.count().plot.bar(ylim=0)\n",
    "plt.title('Training distribution, n={}'.format(len(df)))\n",
    "plt.show()"
   ]
  },
  {
   "cell_type": "code",
   "execution_count": 3,
   "metadata": {},
   "outputs": [
    {
     "name": "stdout",
     "output_type": "stream",
     "text": [
      "Vectorizing Corpus ...\n",
      "Removed 20 sentences\n"
     ]
    },
    {
     "data": {
      "text/plain": [
       "(3644, 300)"
      ]
     },
     "execution_count": 3,
     "metadata": {},
     "output_type": "execute_result"
    }
   ],
   "source": [
    "# Vectorization\n",
    "\n",
    "from sklearn.feature_extraction.text import TfidfVectorizer\n",
    "from stop_words import get_stop_words\n",
    "import numpy as np\n",
    "\n",
    "vectorizer_name = 'german_model'\n",
    "def vectorize(df, vectorizer_name):\n",
    "    if vectorizer_name == 'tfidf':\n",
    "        tfidf = TfidfVectorizer(sublinear_tf=True, min_df=2, norm='l2', encoding='latin-1', ngram_range=(1, 2))\n",
    "        # , stop_words=get_stop_words('de'))\n",
    "        features = tfidf.fit_transform(df.utterance).toarray()\n",
    "    elif vectorizer_name == 'german_model':\n",
    "        import sys, os\n",
    "        sys.path.insert(0, os.path.abspath('..'))\n",
    "        from webserver.classification import trainer\n",
    "        sentences = df.utterance.to_list()\n",
    "        categories = df.category_id.to_list()\n",
    "        sentences_cleaned, features, labels = trainer.vectorize_corpus(sentences, trainer.sentence_to_vec_german_model, categories=categories)\n",
    "        print('Removed {} sentences'.format(len(sentences)-len(sentences_cleaned)))\n",
    "        df = pd.DataFrame(np.array([sentences_cleaned, [id_to_category[ll] for ll in labels]]).T, columns = ['utterance', 'category'])\n",
    "        df['category_id'] = labels\n",
    "    return df, features\n",
    "\n",
    "df, features = vectorize(df, vectorizer_name)\n",
    "features.shape"
   ]
  },
  {
   "cell_type": "code",
   "execution_count": 5,
   "metadata": {
    "collapsed": true
   },
   "outputs": [
    {
     "name": "stdout",
     "output_type": "stream",
     "text": [
      "# 'concession':\n",
      "  . Most correlated unigrams:\n",
      ". ich\n",
      ". aber\n",
      "  . Most correlated bigrams:\n",
      ". sich diese\n",
      ". ich mag\n",
      "# 'dissence':\n",
      "  . Most correlated unigrams:\n",
      ". nein\n",
      ". ernst\n",
      "  . Most correlated bigrams:\n",
      ". ich nicht\n",
      ". was für\n",
      "# 'insinuation':\n",
      "  . Most correlated unigrams:\n",
      ". merkel\n",
      ". vermutlich\n",
      "  . Most correlated bigrams:\n",
      ". die meisten\n",
      ". gleich wieder\n",
      "# 'lecture':\n",
      "  . Most correlated unigrams:\n",
      ". sollte\n",
      ". bitte\n",
      "  . Most correlated bigrams:\n",
      ". sie sich\n",
      ". wer sich\n",
      "# 'praise':\n",
      "  . Most correlated unigrams:\n",
      ". danke\n",
      ". super\n",
      "  . Most correlated bigrams:\n",
      ". danke für\n",
      ". vielen dank\n"
     ]
    }
   ],
   "source": [
    "# Analyze predictive features (works only for TFIDF)\n",
    "\n",
    "from sklearn.feature_selection import chi2\n",
    "import numpy as np\n",
    "N = 2\n",
    "features_chi2 = {}\n",
    "feature_names = {}\n",
    "\n",
    "for Effekt, category_id in sorted(category_to_id.items()):\n",
    "  raw_chi2 = chi2(features, labels == category_id)\n",
    "  indices = np.argsort(raw_chi2[0])[::-1]\n",
    "  feature_names[category_id] = np.array(tfidf.get_feature_names())[indices]\n",
    "  features_chi2[category_id] = raw_chi2[0][indices]\n",
    "  unigrams = [v for v in feature_names[category_id] if len(v.split(' ')) == 1]\n",
    "  bigrams = [v for v in feature_names[category_id] if len(v.split(' ')) == 2]\n",
    "  print(\"# '{}':\".format(Effekt))\n",
    "  print(\"  . Most correlated unigrams:\\n. {}\".format('\\n. '.join(unigrams[0:N])))\n",
    "  print(\"  . Most correlated bigrams:\\n. {}\".format('\\n. '.join(bigrams[0:N])))"
   ]
  },
  {
   "cell_type": "code",
   "execution_count": 6,
   "metadata": {
    "collapsed": true
   },
   "outputs": [
    {
     "data": {
      "image/png": "[encoded data removed]",
      "text/plain": [
       "<Figure size 1440x432 with 1 Axes>"
      ]
     },
     "metadata": {
      "needs_background": "light"
     },
     "output_type": "display_data"
    },
    {
     "data": {
      "image/png": "[encoded data removed]",
      "text/plain": [
       "<Figure size 1440x432 with 1 Axes>"
      ]
     },
     "metadata": {
      "needs_background": "light"
     },
     "output_type": "display_data"
    },
    {
     "data": {
      "image/png": "[encoded data removed]",
      "text/plain": [
       "<Figure size 1440x432 with 1 Axes>"
      ]
     },
     "metadata": {
      "needs_background": "light"
     },
     "output_type": "display_data"
    },
    {
     "data": {
      "image/png": "[encoded data removed]",
      "text/plain": [
       "<Figure size 1440x432 with 1 Axes>"
      ]
     },
     "metadata": {
      "needs_background": "light"
     },
     "output_type": "display_data"
    },
    {
     "data": {
      "image/png": "[encoded data removed]",
      "text/plain": [
       "<Figure size 1440x432 with 1 Axes>"
      ]
     },
     "metadata": {
      "needs_background": "light"
     },
     "output_type": "display_data"
    }
   ],
   "source": [
    "# Show feature predictiveness of features\n",
    "\n",
    "N = 20\n",
    "for index, cat in id_to_category.items():\n",
    "    fig = plt.figure(figsize=[20, 6])\n",
    "    plt.bar(range(N), features_chi2[index][0:N])\n",
    "    plt.xticks(range(N), feature_names[index][0:N])\n",
    "    plt.title(cat)"
   ]
  },
  {
   "cell_type": "code",
   "execution_count": 4,
   "metadata": {},
   "outputs": [],
   "source": [
    "# Show MultinomialNB-result for specific utterance\n",
    "\n",
    "from sklearn.model_selection import train_test_split\n",
    "from sklearn.feature_extraction.text import CountVectorizer\n",
    "from sklearn.feature_extraction.text import TfidfTransformer\n",
    "from sklearn.naive_bayes import MultinomialNB\n",
    "\n",
    "X_train, X_test, y_train, y_test = train_test_split(df['utterance'], df['category'], random_state = 0)\n",
    "count_vect = CountVectorizer()\n",
    "X_train_counts = count_vect.fit_transform(X_train)\n",
    "tfidf_transformer = TfidfTransformer()\n",
    "X_train_tfidf = tfidf_transformer.fit_transform(X_train_counts)\n",
    "clf = MultinomialNB().fit(X_train_tfidf, y_train)\n",
    "print(clf.predict(count_vect.transform([\"Da musst du aber noch mal ran, das muss noch besser werden!\"])))"
   ]
  },
  {
   "cell_type": "code",
   "execution_count": 6,
   "metadata": {},
   "outputs": [
    {
     "data": {
      "image/png": "[encoded data removed]",
      "text/plain": [
       "<Figure size 432x288 with 1 Axes>"
      ]
     },
     "metadata": {
      "needs_background": "light"
     },
     "output_type": "display_data"
    },
    {
     "data": {
      "text/plain": [
       "model_name\n",
       "LinearSVC                 0.368281\n",
       "LogisticRegression        0.387759\n",
       "MultinomialNB                  NaN\n",
       "RandomForestClassifier    0.321629\n",
       "SGDClassifier             0.325475\n",
       "Name: accuracy, dtype: float64"
      ]
     },
     "execution_count": 6,
     "metadata": {},
     "output_type": "execute_result"
    }
   ],
   "source": [
    "# Compare accuracies of different models\n",
    "\n",
    "from sklearn.linear_model import LogisticRegression, SGDClassifier\n",
    "from sklearn.ensemble import RandomForestClassifier\n",
    "from sklearn.svm import LinearSVC\n",
    "from sklearn.naive_bayes import MultinomialNB\n",
    "from sklearn.model_selection import cross_val_score\n",
    "models = [\n",
    "    RandomForestClassifier(n_estimators=200, max_depth=3, random_state=0),\n",
    "    LinearSVC(),\n",
    "    SGDClassifier(tol=1e-3, max_iter=1000, loss='modified_huber'),\n",
    "    MultinomialNB(),\n",
    "    LogisticRegression(random_state=0),\n",
    "]\n",
    "\n",
    "CV = 5\n",
    "cv_df = pd.DataFrame(index=range(CV * len(models)))\n",
    "entries = []\n",
    "for model in models:\n",
    "  model_name = model.__class__.__name__\n",
    "  accuracies = cross_val_score(model, features, df['category_id'], scoring='accuracy', cv=CV)\n",
    "  for fold_idx, accuracy in enumerate(accuracies):\n",
    "    entries.append((model_name, fold_idx, accuracy))\n",
    "cv_df = pd.DataFrame(entries, columns=['model_name', 'fold_idx', 'accuracy'])\n",
    "import seaborn as sns\n",
    "sns.boxplot(x='model_name', y='accuracy', data=cv_df)\n",
    "sns.stripplot(x='model_name', y='accuracy', data=cv_df, \n",
    "              size=8, jitter=True, edgecolor=\"gray\", linewidth=2)\n",
    "plt.show()\n",
    "cv_df.groupby('model_name').accuracy.mean()"
   ]
  },
  {
   "cell_type": "code",
   "execution_count": 7,
   "metadata": {},
   "outputs": [
    {
     "data": {
      "image/png": "[encoded data removed]",
      "text/plain": [
       "<Figure size 720x720 with 2 Axes>"
      ]
     },
     "metadata": {
      "needs_background": "light"
     },
     "output_type": "display_data"
    }
   ],
   "source": [
    "## BUILD CONFUSION MATRIX WITH TRAIN/SPLIT\n",
    "\n",
    "from sklearn.linear_model import SGDClassifier\n",
    "import seaborn as sns\n",
    "import matplotlib.pyplot as plt\n",
    "from sklearn.model_selection import train_test_split\n",
    "model = SGDClassifier(tol=1e-3, max_iter=1000, random_state=0, loss='modified_huber')\n",
    "# model = MultinomialNB()\n",
    "X_train, X_test, y_train, y_test, indices_train, indices_test = train_test_split(features, df.category_id, range(len(df.category_id)), test_size=0.33, random_state=0)\n",
    "model.fit(X_train, y_train)\n",
    "y_pred = model.predict(X_test)\n",
    "from sklearn.metrics import confusion_matrix\n",
    "conf_mat = confusion_matrix(y_test, y_pred)\n",
    "fig, ax = plt.subplots(figsize=(10,10))\n",
    "sns.heatmap(conf_mat, annot=True, fmt='d',\n",
    "            xticklabels=category_id_df.category.values, yticklabels=category_id_df.category.values)\n",
    "plt.ylabel('Actual')\n",
    "plt.xlabel('Predicted')\n",
    "plt.show()"
   ]
  },
  {
   "cell_type": "code",
   "execution_count": 5,
   "metadata": {},
   "outputs": [
    {
     "name": "stdout",
     "output_type": "stream",
     "text": [
      "'insinuation' predicted as 'lecture' : 26 examples.\n"
     ]
    },
    {
     "data": {
      "text/html": [
       "<div>\n",
       "<style scoped>\n",
       "    .dataframe tbody tr th:only-of-type {\n",
       "        vertical-align: middle;\n",
       "    }\n",
       "\n",
       "    .dataframe tbody tr th {\n",
       "        vertical-align: top;\n",
       "    }\n",
       "\n",
       "    .dataframe thead th {\n",
       "        text-align: right;\n",
       "    }\n",
       "</style>\n",
       "<table border=\"1\" class=\"dataframe\">\n",
       "  <thead>\n",
       "    <tr style=\"text-align: right;\">\n",
       "      <th></th>\n",
       "      <th>category</th>\n",
       "      <th>utterance</th>\n",
       "    </tr>\n",
       "  </thead>\n",
       "  <tbody>\n",
       "    <tr>\n",
       "      <th>325</th>\n",
       "      <td>insinuation</td>\n",
       "      <td>Medien und die wissenschaftlichen Hofschranzen...</td>\n",
       "    </tr>\n",
       "    <tr>\n",
       "      <th>445</th>\n",
       "      <td>insinuation</td>\n",
       "      <td>Offenbar verwechseln Sie den Berliner Innensen...</td>\n",
       "    </tr>\n",
       "    <tr>\n",
       "      <th>442</th>\n",
       "      <td>insinuation</td>\n",
       "      <td>Sie haben anscheinend keine Ahnung vom Rechtss...</td>\n",
       "    </tr>\n",
       "    <tr>\n",
       "      <th>360</th>\n",
       "      <td>insinuation</td>\n",
       "      <td>Das wird auch die Grünen treffen, die nichts a...</td>\n",
       "    </tr>\n",
       "    <tr>\n",
       "      <th>411</th>\n",
       "      <td>insinuation</td>\n",
       "      <td>Man kann sich die Frage stellen, was sucht ein...</td>\n",
       "    </tr>\n",
       "    <tr>\n",
       "      <th>247</th>\n",
       "      <td>insinuation</td>\n",
       "      <td>Wow, es schein massig Verfassungsrechtler hier...</td>\n",
       "    </tr>\n",
       "    <tr>\n",
       "      <th>322</th>\n",
       "      <td>insinuation</td>\n",
       "      <td>Wir werden es erfahren weil die Lügner sich ge...</td>\n",
       "    </tr>\n",
       "    <tr>\n",
       "      <th>332</th>\n",
       "      <td>insinuation</td>\n",
       "      <td>Alles ist mal wieder inszeniert um die Aufmerk...</td>\n",
       "    </tr>\n",
       "    <tr>\n",
       "      <th>113</th>\n",
       "      <td>insinuation</td>\n",
       "      <td>Mir scheint es also, dass Sie Pseudolinke mein...</td>\n",
       "    </tr>\n",
       "    <tr>\n",
       "      <th>229</th>\n",
       "      <td>insinuation</td>\n",
       "      <td>Wenn es um Russland geht, ist keine infame Bes...</td>\n",
       "    </tr>\n",
       "    <tr>\n",
       "      <th>330</th>\n",
       "      <td>insinuation</td>\n",
       "      <td>Die fälschen Wahlen ,die sind korrupt , die ve...</td>\n",
       "    </tr>\n",
       "    <tr>\n",
       "      <th>220</th>\n",
       "      <td>insinuation</td>\n",
       "      <td>die meisten vertragsfighter der ufc verdienen ...</td>\n",
       "    </tr>\n",
       "    <tr>\n",
       "      <th>371</th>\n",
       "      <td>insinuation</td>\n",
       "      <td>Dieses solidarische Verhalten ist in Deutschla...</td>\n",
       "    </tr>\n",
       "    <tr>\n",
       "      <th>7</th>\n",
       "      <td>insinuation</td>\n",
       "      <td>Vielleicht sollte Herr Restle nicht von sich a...</td>\n",
       "    </tr>\n",
       "    <tr>\n",
       "      <th>319</th>\n",
       "      <td>insinuation</td>\n",
       "      <td>Ist eh immer wichtiger, was NICHT berichtet wird.</td>\n",
       "    </tr>\n",
       "    <tr>\n",
       "      <th>159</th>\n",
       "      <td>insinuation</td>\n",
       "      <td>Tja, ganz offenbar brauchen einige Großfamilie...</td>\n",
       "    </tr>\n",
       "    <tr>\n",
       "      <th>55</th>\n",
       "      <td>insinuation</td>\n",
       "      <td>Das wird die Menschen aber nicht davon abhalte...</td>\n",
       "    </tr>\n",
       "    <tr>\n",
       "      <th>399</th>\n",
       "      <td>insinuation</td>\n",
       "      <td>Das Chaos wird immer schlimmer</td>\n",
       "    </tr>\n",
       "    <tr>\n",
       "      <th>362</th>\n",
       "      <td>insinuation</td>\n",
       "      <td>Das ist das alleinige Versagen vom \"Kanzlerkan...</td>\n",
       "    </tr>\n",
       "    <tr>\n",
       "      <th>194</th>\n",
       "      <td>insinuation</td>\n",
       "      <td>Das ist die unfassbar billige Ausrede der Bahn</td>\n",
       "    </tr>\n",
       "    <tr>\n",
       "      <th>297</th>\n",
       "      <td>insinuation</td>\n",
       "      <td>Einer schreibt vom anderen ab bzw. beruft sich...</td>\n",
       "    </tr>\n",
       "    <tr>\n",
       "      <th>230</th>\n",
       "      <td>insinuation</td>\n",
       "      <td>Die Eskalationen bei den Demos waren inszeniert.</td>\n",
       "    </tr>\n",
       "    <tr>\n",
       "      <th>225</th>\n",
       "      <td>insinuation</td>\n",
       "      <td>Wenn ein Text dermaßen in Jubelarien und Eigen...</td>\n",
       "    </tr>\n",
       "    <tr>\n",
       "      <th>221</th>\n",
       "      <td>insinuation</td>\n",
       "      <td>Gegenprognose: die UFC wächst weiter, auch wen...</td>\n",
       "    </tr>\n",
       "    <tr>\n",
       "      <th>298</th>\n",
       "      <td>insinuation</td>\n",
       "      <td>Aber mit neutraler und sachlicher Berichtersta...</td>\n",
       "    </tr>\n",
       "    <tr>\n",
       "      <th>447</th>\n",
       "      <td>insinuation</td>\n",
       "      <td>Müssten Verwaltungsrichter an vorderster Front...</td>\n",
       "    </tr>\n",
       "  </tbody>\n",
       "</table>\n",
       "</div>"
      ],
      "text/plain": [
       "        category                                          utterance\n",
       "325  insinuation  Medien und die wissenschaftlichen Hofschranzen...\n",
       "445  insinuation  Offenbar verwechseln Sie den Berliner Innensen...\n",
       "442  insinuation  Sie haben anscheinend keine Ahnung vom Rechtss...\n",
       "360  insinuation  Das wird auch die Grünen treffen, die nichts a...\n",
       "411  insinuation  Man kann sich die Frage stellen, was sucht ein...\n",
       "247  insinuation  Wow, es schein massig Verfassungsrechtler hier...\n",
       "322  insinuation  Wir werden es erfahren weil die Lügner sich ge...\n",
       "332  insinuation  Alles ist mal wieder inszeniert um die Aufmerk...\n",
       "113  insinuation  Mir scheint es also, dass Sie Pseudolinke mein...\n",
       "229  insinuation  Wenn es um Russland geht, ist keine infame Bes...\n",
       "330  insinuation  Die fälschen Wahlen ,die sind korrupt , die ve...\n",
       "220  insinuation  die meisten vertragsfighter der ufc verdienen ...\n",
       "371  insinuation  Dieses solidarische Verhalten ist in Deutschla...\n",
       "7    insinuation  Vielleicht sollte Herr Restle nicht von sich a...\n",
       "319  insinuation  Ist eh immer wichtiger, was NICHT berichtet wird.\n",
       "159  insinuation  Tja, ganz offenbar brauchen einige Großfamilie...\n",
       "55   insinuation  Das wird die Menschen aber nicht davon abhalte...\n",
       "399  insinuation                     Das Chaos wird immer schlimmer\n",
       "362  insinuation  Das ist das alleinige Versagen vom \"Kanzlerkan...\n",
       "194  insinuation    Das ist die unfassbar billige Ausrede der Bahn \n",
       "297  insinuation  Einer schreibt vom anderen ab bzw. beruft sich...\n",
       "230  insinuation   Die Eskalationen bei den Demos waren inszeniert.\n",
       "225  insinuation  Wenn ein Text dermaßen in Jubelarien und Eigen...\n",
       "221  insinuation  Gegenprognose: die UFC wächst weiter, auch wen...\n",
       "298  insinuation  Aber mit neutraler und sachlicher Berichtersta...\n",
       "447  insinuation  Müssten Verwaltungsrichter an vorderster Front..."
      ]
     },
     "metadata": {},
     "output_type": "display_data"
    },
    {
     "name": "stdout",
     "output_type": "stream",
     "text": [
      "\n"
     ]
    }
   ],
   "source": [
    "## SHOW WRONG SENTENCES WITH TRAIN/SPLIT\n",
    "\n",
    "from IPython.display import display\n",
    "import numpy as np\n",
    "\n",
    "for predicted in category_id_df.category_id:\n",
    "  for actual in category_id_df.category_id:\n",
    "    if predicted != actual and conf_mat[actual, predicted] >= 10:\n",
    "        selected_indices = y_test[(y_test == actual) & (y_pred == predicted)]\n",
    "        print(\"'{}' predicted as '{}' : {} examples.\".format(id_to_category[actual], id_to_category[predicted], conf_mat[actual, predicted]))\n",
    "        display(df.loc[selected_indices.index][['category', 'utterance']])\n",
    "        print('')"
   ]
  },
  {
   "cell_type": "code",
   "execution_count": 8,
   "metadata": {},
   "outputs": [
    {
     "name": "stdout",
     "output_type": "stream",
     "text": [
      "Loading /Users/staude/Projekte/BorisJoens/SmallData/webserver/model_data/TrainingDataTestSet01.tsv\n",
      "Vectorizing Corpus ...\n",
      "Removed 0 sentences\n"
     ]
    },
    {
     "data": {
      "image/png": "[encoded data removed]",
      "text/plain": [
       "<Figure size 720x720 with 2 Axes>"
      ]
     },
     "metadata": {
      "needs_background": "light"
     },
     "output_type": "display_data"
    }
   ],
   "source": [
    "## BUILD CONFUSION MATRIX WITH DEDICATED TEST-SET\n",
    "\n",
    "from sklearn.linear_model import SGDClassifier\n",
    "import seaborn as sns\n",
    "import matplotlib.pyplot as plt\n",
    "model = SGDClassifier(tol=1e-3, max_iter=1000, random_state=0, loss='modified_huber')\n",
    "# model = MultinomialNB()\n",
    "\n",
    "df_test = trainer.load_training_files(data_path, ['TestSet'], categories_to_consider)\n",
    "df_test, features_test = vectorize(df_test, vectorizer_name)\n",
    "\n",
    "model.fit(features, df.category_id)\n",
    "\n",
    "y_pred = model.predict(features_test)\n",
    "from sklearn.metrics import confusion_matrix\n",
    "conf_mat = confusion_matrix(df_test.category_id, y_pred)\n",
    "fig, ax = plt.subplots(figsize=(10,10))\n",
    "sns.heatmap(conf_mat, annot=True, fmt='d',\n",
    "            xticklabels=category_id_df.category.values, yticklabels=category_id_df.category.values)\n",
    "plt.ylabel('Actual')\n",
    "plt.xlabel('Predicted')\n",
    "plt.show()"
   ]
  },
  {
   "cell_type": "code",
   "execution_count": 9,
   "metadata": {},
   "outputs": [
    {
     "name": "stdout",
     "output_type": "stream",
     "text": [
      "'dissence' predicted as 'praise' : 3 examples:\n",
      "Laptopkonzerte find ich kacke\n",
      "wenn das jetzt die Zukunft von Konzerten werden soll, dann Gute Nacht\n",
      "puh wieder dieses affektierte Tech Gepose. Und dann auch noch schlecht gemacht\n",
      "\n",
      "'lecture' predicted as 'praise' : 1 examples:\n",
      "ihr solltet wirklich mal etwas mehr Abwechslung bringen\n",
      "\n",
      "'concession' predicted as 'praise' : 1 examples:\n",
      "als Kunstinstallation mag es ja ganz interessant sein, obwohl Stimmung nicht so richtig aufkommt\n",
      "\n",
      "'insinuation' predicted as 'praise' : 1 examples:\n",
      "Wie putzig: alte Knacker machen einen auf modern\n",
      "\n",
      "'concession' predicted as 'dissence' : 1 examples:\n",
      "einerseits ganz schön verkopft, andererseits schon nicht so uninteressant\n",
      "\n",
      "'insinuation' predicted as 'dissence' : 3 examples:\n",
      "ach ja, da soll mir hier also wieder etwas beibebracht werden\n",
      "klar, mit staatsknete und zuviel freizeit kommt dann sowas heraus\n",
      "die meisten hier wissen noch nichtmal was es heisst sowas zu programmieren\n",
      "\n",
      "'praise' predicted as 'lecture' : 1 examples:\n",
      "wo spielt ihr denn das nächste Mal, muss ich unbedingt sehen\n",
      "\n",
      "'dissence' predicted as 'lecture' : 2 examples:\n",
      "das schockt einfach nicht ein, Leute.\n",
      "kann man nicht mal endlich aufhören.\n",
      "\n",
      "'concession' predicted as 'lecture' : 1 examples:\n",
      "man muss aber auch zugeben, daß hier sicher viel Arbeit drinsteckt\n",
      "\n",
      "'insinuation' predicted as 'lecture' : 2 examples:\n",
      "und das soll jetzt hier also Kunst sein oder was?\n",
      "ihr tut doch bloss als ob ihr hier Musik macht, dabei kommt bestimmt alles von Playback\n",
      "\n",
      "'dissence' predicted as 'concession' : 2 examples:\n",
      "ich finde es eigentlich ziemlich unnötig, bei einem Konzert auf dem Smartphone rumzuwischen\n",
      "Hilfe, wann ist endlich Schluss\n",
      "\n",
      "'lecture' predicted as 'concession' : 3 examples:\n",
      "ja ja, ganz nett aber das gab's schon vor 10 Jahren\n",
      "ich würde mal probieren, intuitivere Gesten zuzulassen\n",
      "ich würde euch empfehlen, euch mal wirklich mit KI zu beschäftigen\n",
      "\n",
      "'insinuation' predicted as 'concession' : 1 examples:\n",
      "immer wieder sieht man diese selbsternannten Künstler, die nichts können aber sich dabei unheimlich toll vorkommen\n",
      "\n",
      "'lecture' predicted as 'insinuation' : 1 examples:\n",
      "man kann hier wunderbar den Niedergang an Live atmosphare beobachten\n",
      "\n"
     ]
    }
   ],
   "source": [
    "## SHOW WRONG SENTENCES WITH DEDICATED TEST SET\n",
    "\n",
    "from IPython.display import display\n",
    "import numpy as np\n",
    "\n",
    "for predicted in category_id_df.category_id:\n",
    "  for actual in category_id_df.category_id:\n",
    "    if predicted != actual and conf_mat[actual, predicted] >= 1:\n",
    "        selected_indices = df_test.category_id[(df_test.category_id == actual) & (y_pred == predicted)]\n",
    "        print(\"'{}' predicted as '{}' : {} examples:\".format(id_to_category[actual], id_to_category[predicted], conf_mat[actual, predicted]))\n",
    "        for i, row in df_test.loc[selected_indices.index].iterrows():\n",
    "             print(row['utterance'])\n",
    "#         display(df_test.loc[selected_indices.index][['category', 'utterance']])\n",
    "        print('')"
   ]
  },
  {
   "cell_type": "code",
   "execution_count": null,
   "metadata": {},
   "outputs": [],
   "source": [
    "## Check doc2vec\n",
    "# taken from https://medium.com/towards-artificial-intelligence/text-classification-by-xgboost-others-a-case-study-using-bbc-news-articles-5d88e94a9f8\n",
    "import pandas as pd\n",
    "\n",
    "file = '../webserver/model_data/TrainingData_ml.xlsx'\n",
    "df = pd.read_excel(file).rename(columns={'Effekt': 'category'})\n",
    "col = ['utterance', 'category']\n",
    "df = df[col]\n",
    "\n",
    "from gensim import utils\n",
    "import gensim.parsing.preprocessing as gsp\n",
    "\n",
    "filters = [\n",
    "           gsp.strip_tags, \n",
    "           gsp.strip_punctuation,\n",
    "           gsp.strip_multiple_whitespaces,\n",
    "           gsp.strip_numeric,\n",
    "           gsp.strip_short, \n",
    "          ]\n",
    "\n",
    "def clean_text(s):\n",
    "    s = s.lower()\n",
    "    s = utils.to_unicode(s)\n",
    "    for f in filters:\n",
    "        s = f(s)\n",
    "    return s"
   ]
  },
  {
   "cell_type": "code",
   "execution_count": null,
   "metadata": {},
   "outputs": [],
   "source": [
    "from wordcloud import WordCloud\n",
    "import matplotlib.pyplot as plt\n",
    "%matplotlib inline\n",
    "\n",
    "\n",
    "\n",
    "def plot_word_cloud(text):\n",
    "    wordcloud_instance = WordCloud(width = 800, height = 800, \n",
    "                background_color ='black', \n",
    "                stopwords=None,\n",
    "                min_font_size = 10).generate(text) \n",
    "             \n",
    "    plt.figure(figsize = (8, 8), facecolor = None) \n",
    "    plt.imshow(wordcloud_instance) \n",
    "    plt.axis(\"off\") \n",
    "    plt.tight_layout(pad = 0) \n",
    "    plt.show()\n",
    "\n",
    "    \n",
    "texts = ''\n",
    "for index, item in df.iterrows():\n",
    "    texts = texts + ' ' + clean_text(item['utterance'])\n",
    "    \n",
    "plot_word_cloud(texts)"
   ]
  },
  {
   "cell_type": "code",
   "execution_count": null,
   "metadata": {},
   "outputs": [],
   "source": [
    "def plot_word_cloud_for_category(df, category):\n",
    "    text_df = df.loc[df['category'] == str(category)]\n",
    "    texts = ''\n",
    "    for index, item in text_df.iterrows():\n",
    "        texts = texts + ' ' + clean_text(item['utterance'])\n",
    "    \n",
    "    plot_word_cloud(texts)"
   ]
  }
 ],
 "metadata": {
  "kernelspec": {
   "display_name": "Python 3",
   "language": "python",
   "name": "python3"
  },
  "language_info": {
   "codemirror_mode": {
    "name": "ipython",
    "version": 3
   },
   "file_extension": ".py",
   "mimetype": "text/x-python",
   "name": "python",
   "nbconvert_exporter": "python",
   "pygments_lexer": "ipython3",
   "version": "3.8.0"
  }
 },
 "nbformat": 4,
 "nbformat_minor": 4
}
