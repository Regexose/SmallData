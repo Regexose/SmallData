{
 "cells": [
  {
   "cell_type": "code",
   "execution_count": 5,
   "metadata": {},
   "outputs": [
    {
     "name": "stdout",
     "output_type": "stream",
     "text": [
      "Column headings:\n",
      "Index(['Unnamed: 0', 'platform', 'User', 'topic', 'phase/arg_situation',\n",
      "       'method', 'adressee, reference', 'function', 'intent', 'impl_expl',\n",
      "       'pos_neg', 'easy translation', 'utterance', 'Effekt', 'lecture',\n",
      "       'praise', 'insinuation', 'dissence', 'concession'],\n",
      "      dtype='object')\n"
     ]
    }
   ],
   "source": [
    "import pandas as pd\n",
    "from pandas import ExcelWriter\n",
    "from pandas import ExcelFile\n",
    "\n",
    "df = pd.read_excel('../backend/model_data/TrainingData_5cat_de.xlsx')\n",
    "\n",
    "print(\"Column headings:\")\n",
    "print(df.columns)"
   ]
  },
  {
   "cell_type": "code",
   "execution_count": 33,
   "metadata": {},
   "outputs": [],
   "source": [
    "utterances = []\n",
    "i = 0\n",
    "for text in df['utterance']:\n",
    "    if str(text).find('.*') and i < 200:\n",
    "        utterances.append(text)\n",
    "        i += 1\n",
    "df2 = pd.DataFrame(utterances, columns=[\"utterance\"])\n",
    "df2.to_csv('utterance.csv', index=False)"
   ]
  },
  {
   "cell_type": "code",
   "execution_count": null,
   "metadata": {},
   "outputs": [],
   "source": []
  }
 ],
 "metadata": {
  "kernelspec": {
   "display_name": "Python 3",
   "language": "python",
   "name": "python3"
  },
  "language_info": {
   "codemirror_mode": {
    "name": "ipython",
    "version": 3
   },
   "file_extension": ".py",
   "mimetype": "text/x-python",
   "name": "python",
   "nbconvert_exporter": "python",
   "pygments_lexer": "ipython3",
   "version": "3.7.2"
  }
 },
 "nbformat": 4,
 "nbformat_minor": 2
}
