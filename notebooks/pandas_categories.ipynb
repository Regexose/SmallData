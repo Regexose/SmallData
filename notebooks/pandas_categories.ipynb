{
 "cells": [
  {
   "cell_type": "code",
   "execution_count": 7,
   "metadata": {},
   "outputs": [
    {
     "name": "stdout",
     "output_type": "stream",
     "text": [
      "Column headings:\n",
      "Index(['Unnamed: 0', 'platform', 'User', 'topic', 'phase/arg_situation',\n",
      "       'method', 'adressee, reference', 'function', 'intent', 'Effekt',\n",
      "       'impl_expl', 'pos_neg', 'utterance', 'easy translation', 'Unnamed: 14',\n",
      "       'Unnamed: 15'],\n",
      "      dtype='object')\n"
     ]
    }
   ],
   "source": [
    "import pandas as pd\n",
    "from pandas import ExcelWriter\n",
    "from pandas import ExcelFile\n",
    "\n",
    "df = pd.read_excel('backend/classification/TrainingData_de.xlsx')\n",
    "\n",
    "print(\"Column headings:\")\n",
    "print(df.columns)"
   ]
  },
  {
   "cell_type": "code",
   "execution_count": 9,
   "metadata": {},
   "outputs": [
    {
     "name": "stdout",
     "output_type": "stream",
     "text": [
      "('discreditation', 146)\n",
      "('lecture', 126)\n",
      "('revelation', 72)\n",
      "('support', 64)\n",
      "('insinuation', 64)\n",
      "('indication', 56)\n",
      "('claim', 54)\n",
      "('attack', 53)\n",
      "('dissence', 33)\n",
      "('praise', 32)\n",
      "('accusation', 29)\n",
      "('colonisation', 26)\n",
      "('fault', 26)\n",
      "('speculation', 26)\n",
      "('judgement', 22)\n",
      "('challenge', 17)\n",
      "('warning', 15)\n",
      "('statement', 15)\n",
      "('gratitude', 14)\n",
      "('sarcasm', 13)\n",
      "('trolling', 13)\n",
      "('demand', 12)\n",
      "('ambivalence', 11)\n",
      "('advice', 10)\n",
      "('question', 9)\n",
      "('direction', 9)\n",
      "('solution', 9)\n",
      "('concession', 8)\n",
      "('relativation', 7)\n",
      "('reflection', 7)\n",
      "('irony', 5)\n",
      "('bragging', 4)\n",
      "('conspiracy', 4)\n",
      "('provocation', 3)\n",
      "('confrontation', 3)\n",
      "('whataboutism', 2)\n",
      "('consent', 2)\n",
      "('link', 1)\n",
      "('humour', 1)\n"
     ]
    }
   ],
   "source": [
    "from collections import Counter, OrderedDict\n",
    "\n",
    "category_names = Counter()\n",
    "for i in df.index:\n",
    "    category_names[df['Effekt'][i]] +=1\n",
    "\n",
    "for entry in category_names.most_common():\n",
    "    print(entry)\n"
   ]
  },
  {
   "cell_type": "code",
   "execution_count": null,
   "metadata": {},
   "outputs": [],
   "source": []
  },
  {
   "cell_type": "code",
   "execution_count": null,
   "metadata": {},
   "outputs": [],
   "source": []
  },
  {
   "cell_type": "code",
   "execution_count": null,
   "metadata": {},
   "outputs": [],
   "source": []
  },
  {
   "cell_type": "code",
   "execution_count": null,
   "metadata": {},
   "outputs": [],
   "source": []
  }
 ],
 "metadata": {
  "kernelspec": {
   "display_name": "Python 3",
   "language": "python",
   "name": "python3"
  },
  "language_info": {
   "codemirror_mode": {
    "name": "ipython",
    "version": 3
   },
   "file_extension": ".py",
   "mimetype": "text/x-python",
   "name": "python",
   "nbconvert_exporter": "python",
   "pygments_lexer": "ipython3",
   "version": "3.6.5"
  }
 },
 "nbformat": 4,
 "nbformat_minor": 2
}
